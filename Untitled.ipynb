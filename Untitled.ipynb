{
 "cells": [
  {
   "cell_type": "markdown",
   "id": "1b993308-3099-4f51-a3bf-28dd8b05ae8c",
   "metadata": {},
   "source": [
    "**Objective:** The goal of this assignment is to implement a Convolutional Neural Network (CNN)\n",
    "to classify images from the FashionMNIST dataset. You will learn how to preprocess the data,\n",
    "build and train a CNN, and evaluate its performance.\n",
    "\n",
    "**Dataset:** FashionMNIST is a dataset of 60,000 training images and 10,000 test images, each of\n",
    "size 28x28 grayscale, categorized into 10 different fashion classes (e.g., T-shirt, dress, sneaker,\n",
    "etc.)."
   ]
  },
  {
   "cell_type": "markdown",
   "id": "5407950c-9610-4691-85db-abbab67d4a4e",
   "metadata": {},
   "source": [
    "# Part 1: Data Preprocessing\n",
    "1. Load the FashionMNIST dataset using torchvision.datasets (for PyTorch) or\n",
    "tensorflow.keras.datasets (for TensorFlow).\n",
    "2. Normalize the images to the range [0,1] and reshape them if necessary.\n",
    "3. Split the dataset into training and validation sets"
   ]
  },
  {
   "cell_type": "code",
   "execution_count": null,
   "id": "af360ed9-8c3d-4ee4-93e9-9cca099923ce",
   "metadata": {},
   "outputs": [],
   "source": []
  },
  {
   "cell_type": "markdown",
   "id": "be5d7fd5-d814-46df-90d9-9813174c4f5c",
   "metadata": {},
   "source": [
    "# Part 2: Building the CNN Model\n",
    "1. You can try different CNN architectures (depth, kernel size) yourself\n",
    "2. Pick appropriate loss function and optimizer"
   ]
  },
  {
   "cell_type": "markdown",
   "id": "f25d482a-676b-42cc-ad59-4f4e4acd7bc7",
   "metadata": {},
   "source": [
    "# Part 3: Training & Evaluation\n",
    "1. Train the model\n",
    " - Plot loss curves.\n",
    "2. Evaluate the model:\n",
    " - Compute test accuracy.\n",
    " - Generate a confusion matrix"
   ]
  },
  {
   "cell_type": "markdown",
   "id": "3e6efc3f-ffb0-4047-adab-3fe0e5358a35",
   "metadata": {},
   "source": [
    "# Part 4: Experimentation & Improvements\n",
    "1. Try at least two modifications (e.g., adding more layers, changing filter size, adding\n",
    "dropout, batch normalization, or data augmentation).\n",
    "2. Compare results with the baseline model."
   ]
  },
  {
   "cell_type": "code",
   "execution_count": null,
   "id": "b6c75d98-6880-4513-ad2a-b1de244fcf45",
   "metadata": {},
   "outputs": [],
   "source": []
  }
 ],
 "metadata": {
  "kernelspec": {
   "display_name": "Python 3 (ipykernel)",
   "language": "python",
   "name": "python3"
  },
  "language_info": {
   "codemirror_mode": {
    "name": "ipython",
    "version": 3
   },
   "file_extension": ".py",
   "mimetype": "text/x-python",
   "name": "python",
   "nbconvert_exporter": "python",
   "pygments_lexer": "ipython3",
   "version": "3.11.5"
  }
 },
 "nbformat": 4,
 "nbformat_minor": 5
}
